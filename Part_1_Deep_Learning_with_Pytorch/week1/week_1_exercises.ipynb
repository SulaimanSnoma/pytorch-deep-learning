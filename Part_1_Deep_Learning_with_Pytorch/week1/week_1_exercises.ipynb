{
  "cells": [
    {
      "cell_type": "markdown",
      "metadata": {
        "id": "view-in-github",
        "colab_type": "text"
      },
      "source": [
        "<a href=\"https://colab.research.google.com/github/SulaimanSnoma/pytorch-deep-learning/blob/main/Part_1_Deep_Learning_with_Pytorch/week1/week_1_exercises.ipynb\" target=\"_parent\"><img src=\"https://colab.research.google.com/assets/colab-badge.svg\" alt=\"Open In Colab\"/></a>"
      ]
    },
    {
      "cell_type": "markdown",
      "metadata": {
        "id": "7fmj1fnL-neh"
      },
      "source": [
        "<a href=\"https://colab.research.google.com/github/arewadataScience/ArewaDS-Deep-Learning/blob/main/Part_1_Deep_Learning_with_Pytorch/week1/week_1_exercises.ipynb\" target=\"_parent\"><img src=\"https://colab.research.google.com/assets/colab-badge.svg\" alt=\"Open In Colab\"/></a>"
      ]
    },
    {
      "cell_type": "markdown",
      "metadata": {
        "id": "5hDxJUDx-nel"
      },
      "source": [
        "Arewa Data Science Academy\n",
        "\n",
        "Deep Learning Cohort 2.0\n",
        "\n",
        "Name: Sulaiman Umar S.Noma\n",
        "\n",
        "Email: sulaimanumarsnoma@gmail.com\n",
        "\n",
        "Title: Week 1 Solution\n",
        "\n",
        "Exercises Solution\n"
      ]
    },
    {
      "cell_type": "markdown",
      "metadata": {
        "id": "YsKL0nuh-nen"
      },
      "source": [
        "### Exercises:\n",
        "Please, see week 1 exercises from [**Learn PyTorch for Deep Learning**: 00. Pytorch Fundamentals](https://www.learnpytorch.io/00_pytorch_fundamentals/#exercises)"
      ]
    },
    {
      "cell_type": "markdown",
      "metadata": {
        "id": "67vEXeLC-nen"
      },
      "source": [
        "### Additional Exercise"
      ]
    },
    {
      "cell_type": "code",
      "execution_count": 2,
      "metadata": {
        "vscode": {
          "languageId": "plaintext"
        },
        "colab": {
          "base_uri": "https://localhost:8080/",
          "height": 35
        },
        "id": "lyVM4xTL-neo",
        "outputId": "26cea92f-7058-4621-d43d-7f2618808ec4"
      },
      "outputs": [
        {
          "output_type": "execute_result",
          "data": {
            "text/plain": [
              "'2.5.1+cu121'"
            ],
            "application/vnd.google.colaboratory.intrinsic+json": {
              "type": "string"
            }
          },
          "metadata": {},
          "execution_count": 2
        }
      ],
      "source": [
        "import torch\n",
        "torch.__version__"
      ]
    },
    {
      "cell_type": "markdown",
      "source": [
        "2. Create a random tensor with shape (7, 7).\n",
        "\n",
        "SOLUTIONS"
      ],
      "metadata": {
        "id": "0BJnaAusJDlv"
      }
    },
    {
      "cell_type": "code",
      "source": [
        "snoma = torch.rand(7,7)\n",
        "snoma"
      ],
      "metadata": {
        "colab": {
          "base_uri": "https://localhost:8080/"
        },
        "id": "rxWAc3azAFo0",
        "outputId": "479b7cf4-e5d5-4f20-8050-e909e383faef"
      },
      "execution_count": 5,
      "outputs": [
        {
          "output_type": "execute_result",
          "data": {
            "text/plain": [
              "tensor([[0.6494, 0.6809, 0.7209, 0.6676, 0.5121, 0.5002, 0.4976],\n",
              "        [0.7811, 0.0290, 0.4434, 0.4298, 0.5421, 0.7147, 0.2316],\n",
              "        [0.5920, 0.2141, 0.6887, 0.7016, 0.4665, 0.2102, 0.1631],\n",
              "        [0.2158, 0.4591, 0.4379, 0.9512, 0.7982, 0.2655, 0.5649],\n",
              "        [0.2286, 0.5970, 0.0090, 0.6855, 0.2921, 0.8687, 0.8287],\n",
              "        [0.5420, 0.4116, 0.5940, 0.1428, 0.0705, 0.7205, 0.7779],\n",
              "        [0.5226, 0.8119, 0.0238, 0.5704, 0.4222, 0.1875, 0.2333]])"
            ]
          },
          "metadata": {},
          "execution_count": 5
        }
      ]
    },
    {
      "cell_type": "code",
      "source": [],
      "metadata": {
        "id": "OQC30PUQBXQu"
      },
      "execution_count": null,
      "outputs": []
    }
  ],
  "metadata": {
    "language_info": {
      "name": "python"
    },
    "colab": {
      "provenance": [],
      "toc_visible": true,
      "include_colab_link": true
    },
    "kernelspec": {
      "name": "python3",
      "display_name": "Python 3"
    }
  },
  "nbformat": 4,
  "nbformat_minor": 0
}